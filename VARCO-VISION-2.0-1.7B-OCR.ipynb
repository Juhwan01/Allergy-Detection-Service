{
 "cells": [
  {
   "cell_type": "code",
   "execution_count": 1,
   "id": "6f12cbd0",
   "metadata": {},
   "outputs": [
    {
     "name": "stderr",
     "output_type": "stream",
     "text": [
      "`torch_dtype` is deprecated! Use `dtype` instead!\n"
     ]
    },
    {
     "data": {
      "application/vnd.jupyter.widget-view+json": {
       "model_id": "fb1176a86dce4409909517f8e55ff1e4",
       "version_major": 2,
       "version_minor": 0
      },
      "text/plain": [
       "Fetching 2 files:   0%|          | 0/2 [00:00<?, ?it/s]"
      ]
     },
     "metadata": {},
     "output_type": "display_data"
    },
    {
     "name": "stderr",
     "output_type": "stream",
     "text": [
      "Using a slow image processor as `use_fast` is unset and a slow processor was saved with this model. `use_fast=True` will be the default behavior in v4.52, even if the model was saved with a slow processor. This will result in minor differences in outputs. You'll still be able to use a slow processor with `use_fast=False`.\n"
     ]
    },
    {
     "data": {
      "application/vnd.jupyter.widget-view+json": {
       "model_id": "3eee3de7091944a4a0fb957d887c7ae2",
       "version_major": 2,
       "version_minor": 0
      },
      "text/plain": [
       "Fetching 3 files:   0%|          | 0/3 [00:00<?, ?it/s]"
      ]
     },
     "metadata": {},
     "output_type": "display_data"
    }
   ],
   "source": [
    "import torch\n",
    "from PIL import Image\n",
    "from transformers import AutoProcessor, LlavaOnevisionForConditionalGeneration\n",
    "\n",
    "model_name = \"NCSOFT/VARCO-VISION-2.0-1.7B-OCR\"\n",
    "model = LlavaOnevisionForConditionalGeneration.from_pretrained(\n",
    "    model_name,\n",
    "    torch_dtype=torch.float16,\n",
    "    attn_implementation=\"sdpa\",\n",
    "    device_map=\"auto\",\n",
    ")\n",
    "processor = AutoProcessor.from_pretrained(model_name)\n",
    "\n",
    "image = Image.open(\"image.jpg\")"
   ]
  },
  {
   "cell_type": "code",
   "execution_count": 2,
   "id": "7c79d11a-d34b-4787-a379-8fbd2dc60814",
   "metadata": {},
   "outputs": [],
   "source": [
    "# Image upscaling for OCR performance boost\n",
    "w, h = image.size\n",
    "target_size = 2304\n",
    "if max(w, h) < target_size:\n",
    "    scaling_factor = target_size / max(w, h)\n",
    "    new_w = int(w * scaling_factor)\n",
    "    new_h = int(h * scaling_factor)\n",
    "    image = image.resize((new_w, new_h))\n",
    "\n",
    "conversation = [\n",
    "    {\n",
    "        \"role\": \"user\",\n",
    "        \"content\": [\n",
    "            {\"type\": \"image\", \"image\": image},\n",
    "            {\"type\": \"text\", \"text\": \"\"},\n",
    "        ],\n",
    "    },\n",
    "]\n",
    "\n",
    "inputs = processor.apply_chat_template(\n",
    "    conversation,\n",
    "    add_generation_prompt=True,\n",
    "    tokenize=True,\n",
    "    return_dict=True,\n",
    "    return_tensors=\"pt\"\n",
    ").to(model.device, torch.float16)"
   ]
  },
  {
   "cell_type": "code",
   "execution_count": 3,
   "id": "12f096bb-908d-4663-b697-34ffec553a31",
   "metadata": {},
   "outputs": [
    {
     "name": "stderr",
     "output_type": "stream",
     "text": [
      "Setting `pad_token_id` to `eos_token_id`:151645 for open-end generation.\n"
     ]
    },
    {
     "name": "stdout",
     "output_type": "stream",
     "text": [
      "· 제품명제크 · 식품의 유형: 과자(유처리제품) · 롯데제과주식회사 경남 양산시 양산대로 1158 · 직사광선 및\n",
      "· 영양성분 1회 제공량 1봉 (50g) 습기를 피해 서늘한 곳에 진열하시고, 유통중 변질품은 구입상점 및 본사에서 항상 교환해 드립니다. · 본 제품은\n",
      "· 총 2회 제공량 (100g) 소비자기본법에 의한 소비자분쟁해결기준에 의거 정당한 소비자 피해에 대하여 교환·환불해 드립니다. · 휴지줍는 고운마을.\n",
      "· 안버리는 밝은마음 · 유통기한한측면표기일까지(연.월.일) · 내포장제작폴리프로필렌 · 원재료명 밀가루(밀,미국산), 열량\n",
      "· 탄수화물 33g 10% 가공유지(팜분별유(부분경화유):말레이시아산), 쇼트닝 I (정제가공유지(부분경화유), 당류 4g\n",
      "· 말레이시아산), 쇼트닝 I (백설탕,산도조절제,액상과당,천일염,쇼트닝 I,맥아분말,치조분말, 단백질 3g 5%\n",
      "· 레시틴,유청단백분말,효소제,합성착향료(브레드향), 밀,우유,대두,쇠고기,함유\n",
      "· 포화지방 6g 40% 과자 표면에 있을 수 있는 짧은 실 모양은 맥아껍질이므로 안심하고 종이\n",
      "· 트랜스지방 0.5g 0% 드시기 바랍니다 · 부정,불량식품 신고는 국번없이 1399\n",
      "· 콜레스테롤 0mg 0% 콜레스테롤 400mg 20%\n",
      "· 나트륨 080-024-6060 0% 영양성분기준치:1일 영양성분기준치에 대한 비율\n",
      "· 수신자요율부담 8 80 1062 52 1906 1400\n",
      "· 희망소비자가격 http://www.lottecont.co.kr\n",
      "· 080-024-6060 0% 영양성분기준치:1일 영양성분기준치에 대한 비율<|im_end|>\n"
     ]
    }
   ],
   "source": [
    "generate_ids = model.generate(**inputs, max_new_tokens=1024)\n",
    "generate_ids_trimmed = [\n",
    "    out_ids[len(in_ids):] for in_ids, out_ids in zip(inputs.input_ids, generate_ids)\n",
    "]\n",
    "output = processor.decode(generate_ids_trimmed[0], skip_special_tokens=False)\n",
    "print(output)"
   ]
  },
  {
   "cell_type": "code",
   "execution_count": null,
   "id": "a8dfb8d1-f4b7-4bcc-862c-5ee1a6605e74",
   "metadata": {},
   "outputs": [],
   "source": []
  }
 ],
 "metadata": {
  "kernelspec": {
   "display_name": "Python 3 (ipykernel)",
   "language": "python",
   "name": "python3"
  },
  "language_info": {
   "codemirror_mode": {
    "name": "ipython",
    "version": 3
   },
   "file_extension": ".py",
   "mimetype": "text/x-python",
   "name": "python",
   "nbconvert_exporter": "python",
   "pygments_lexer": "ipython3",
   "version": "3.11.11"
  }
 },
 "nbformat": 4,
 "nbformat_minor": 5
}
