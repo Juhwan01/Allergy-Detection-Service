{
 "cells": [
  {
   "cell_type": "code",
   "execution_count": 1,
   "id": "0dd53a32-584b-4e2c-b893-38b5e12ce5f9",
   "metadata": {},
   "outputs": [],
   "source": [
    "output='''· 제품명제크 · 식품의 유형: 과자(유처리제품) · 롯데제과주식회사 경남 양산시 양산대로 1158 · 직사광선 및\n",
    "· 영양성분 1회 제공량 1봉 (50g) 습기를 피해 서늘한 곳에 진열하시고, 유통중 변질품은 구입상점 및 본사에서 항상 교환해 드립니다. · 본 제품은\n",
    "· 총 2회 제공량 (100g) 소비자기본법에 의한 소비자분쟁해결기준에 의거 정당한 소비자 피해에 대하여 교환·환불해 드립니다. · 휴지줍는 고운마을.\n",
    "· 안버리는 밝은마음 · 유통기한한측면표기일까지(연.월.일) · 내포장제작폴리프로필렌 · 원재료명 밀가루(밀,미국산), 열량\n",
    "· 탄수화물 33g 10% 가공유지(팜분별유(부분경화유):말레이시아산), 쇼트닝 I (정제가공유지(부분경화유), 당류 4g\n",
    "· 말레이시아산), 쇼트닝 I (백설탕,산도조절제,액상과당,천일염,쇼트닝 I,맥아분말,치조분말, 단백질 3g 5%\n",
    "· 레시틴,유청단백분말,효소제,합성착향료(브레드향), 밀,우유,대두,쇠고기,함유\n",
    "· 포화지방 6g 40% 과자 표면에 있을 수 있는 짧은 실 모양은 맥아껍질이므로 안심하고 종이\n",
    "· 트랜스지방 0.5g 0% 드시기 바랍니다 · 부정,불량식품 신고는 국번없이 1399\n",
    "· 콜레스테롤 0mg 0% 콜레스테롤 400mg 20%\n",
    "· 나트륨 080-024-6060 0% 영양성분기준치:1일 영양성분기준치에 대한 비율\n",
    "· 수신자요율부담 8 80 1062 52 1906 1400\n",
    "· 희망소비자가격 http://www.lottecont.co.kr\n",
    "· 080-024-6060 0% 영양성분기준치:1일 영양성분기준치에 대한 비율<|im_end|>'''"
   ]
  },
  {
   "cell_type": "code",
   "execution_count": 3,
   "id": "36ce906c-98c6-4779-ae9f-49339e53280a",
   "metadata": {},
   "outputs": [],
   "source": [
    "from transformers import AutoTokenizer, AutoModelForSeq2SeqLM, pipeline\n",
    "import json, re\n",
    "\n",
    "ALLERGENS = [\n",
    "    \"알류\",\"우유\",\"메밀\",\"땅콩\",\"대두\",\"밀\",\"잣\",\"호두\",\n",
    "    \"게\",\"새우\",\"오징어\",\"고등어\",\"조개류\",\"복숭아\",\"토마토\",\n",
    "    \"닭고기\",\"돼지고기\",\"쇠고기\",\"아황산류\"\n",
    "]\n",
    "\n"
   ]
  },
  {
   "cell_type": "code",
   "execution_count": 4,
   "id": "2aefe561-dcd4-4629-8929-ef82b9066094",
   "metadata": {},
   "outputs": [
    {
     "name": "stderr",
     "output_type": "stream",
     "text": [
      "Device set to use cuda:0\n"
     ]
    }
   ],
   "source": [
    "# 1. 모델 로드\n",
    "try:\n",
    "    model_id = \"paust/pko-t5-small\"\n",
    "    tok = AutoTokenizer.from_pretrained(model_id)\n",
    "    mdl = AutoModelForSeq2SeqLM.from_pretrained(model_id, device_map=\"auto\")\n",
    "except:\n",
    "    model_id = \"google/flan-t5-small\"\n",
    "    tok = AutoTokenizer.from_pretrained(model_id)\n",
    "    mdl = AutoModelForSeq2SeqLM.from_pretrained(model_id, device_map=\"auto\")\n",
    "\n",
    "gen = pipeline(\"text2text-generation\", model=mdl, tokenizer=tok, max_new_tokens=256)\n",
    "\n"
   ]
  },
  {
   "cell_type": "code",
   "execution_count": 5,
   "id": "a699511d-9efc-4bce-8570-9be21e8746bc",
   "metadata": {},
   "outputs": [],
   "source": [
    "# 2. 추출 함수\n",
    "def extract_allergens(ocr_text: str):\n",
    "    prompt = f\"\"\"\n",
    "다음은 OCR로 추출한 식품 정보 라벨 텍스트입니다:\n",
    "\\\"{ocr_text}\\\"\n",
    "\n",
    "알레르기 카테고리 목록: {', '.join(ALLERGENS)}\n",
    "\n",
    "👉 포함된 알레르기 카테고리만 JSON 배열로 출력하세요.  \n",
    "형식: [\"밀\",\"대두\"]  \n",
    "⚠️ 정답 JSON만 출력하세요. 다른 설명/문장은 쓰지 마세요.\n",
    "\n",
    "정답 JSON:\"\"\"\n",
    "\n",
    "    out = gen(prompt)[0][\"generated_text\"].strip()\n",
    "    print(\"📜 Raw Output:\", out)  # LLM 실제 응답 확인용\n",
    "\n",
    "    m = re.search(r\"\\[.*\\]\", out, re.S)\n",
    "    if m:\n",
    "        try:\n",
    "            return json.loads(m.group(0))\n",
    "        except:\n",
    "            pass\n",
    "\n",
    "    # fallback: 카테고리 직접 탐색\n",
    "    found = []\n",
    "    for a in ALLERGENS:\n",
    "        if a in ocr_text:\n",
    "            found.append(a)\n",
    "    return found\n"
   ]
  },
  {
   "cell_type": "code",
   "execution_count": 6,
   "id": "d824910c-d5aa-4ead-b136-1ea7a204e025",
   "metadata": {},
   "outputs": [
    {
     "name": "stdout",
     "output_type": "stream",
     "text": [
      "📜 Raw Output: ·  · 당류 0g 10% · 당류 0g 10% · 당류 0g 10% · 당류 0g 10% · 당류 0g 10% · 당류 0g 10% · 당류 0g 10% · 당류 0g 10% · 나트륨 0g 또는또는:\n",
      "✅ Detected Allergens: ['우유', '대두', '밀', '쇠고기']\n"
     ]
    }
   ],
   "source": [
    "print(\"✅ Detected Allergens:\", extract_allergens(output))"
   ]
  },
  {
   "cell_type": "code",
   "execution_count": null,
   "id": "f3cc742f-1eef-48bb-a0cb-a9e1e499f023",
   "metadata": {},
   "outputs": [],
   "source": []
  }
 ],
 "metadata": {
  "kernelspec": {
   "display_name": "Python 3 (ipykernel)",
   "language": "python",
   "name": "python3"
  },
  "language_info": {
   "codemirror_mode": {
    "name": "ipython",
    "version": 3
   },
   "file_extension": ".py",
   "mimetype": "text/x-python",
   "name": "python",
   "nbconvert_exporter": "python",
   "pygments_lexer": "ipython3",
   "version": "3.11.11"
  }
 },
 "nbformat": 4,
 "nbformat_minor": 5
}
